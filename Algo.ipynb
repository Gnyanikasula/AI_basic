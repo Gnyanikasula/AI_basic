{
 "cells": [
  {
   "cell_type": "markdown",
   "id": "45a27276",
   "metadata": {},
   "source": [
    "# BFS"
   ]
  },
  {
   "cell_type": "markdown",
   "id": "bcca24f6",
   "metadata": {},
   "source": [
    "## Create a graph using dictionary\n",
    "1. Key as a node ,\n",
    "2. Value as a list of neighbors"
   ]
  },
  {
   "cell_type": "code",
   "execution_count": 19,
   "id": "0c6a9929",
   "metadata": {},
   "outputs": [],
   "source": [
    "graph = {\n",
    "  '5' : ['3','7'],\n",
    "  '3' : ['2', '4'],\n",
    "  '7' : ['8'],\n",
    "  '2' : [],\n",
    "  '4' : ['8'],\n",
    "  '8' : []\n",
    "}"
   ]
  },
  {
   "cell_type": "code",
   "execution_count": 20,
   "id": "7bc50a53",
   "metadata": {},
   "outputs": [],
   "source": [
    "# List of visited nodes\n",
    "visited = []\n",
    "\n",
    "# Queue for tracking\n",
    "q = []\n"
   ]
  },
  {
   "cell_type": "code",
   "execution_count": 21,
   "id": "4a509d36",
   "metadata": {},
   "outputs": [],
   "source": [
    "# Create a function \n",
    "def bfs(visited, graph, node):\n",
    "    visited.append(node)\n",
    "    q.append(node)\n",
    "    \n",
    "    while q :\n",
    "        m = q.pop(0)\n",
    "        print(m, end=\" \")\n",
    "        \n",
    "        for n in graph[m]:\n",
    "            if n not in visited:\n",
    "                visited.append(n)\n",
    "                q.append(n)\n",
    "\n",
    "            "
   ]
  },
  {
   "cell_type": "code",
   "execution_count": 22,
   "id": "32c99a87",
   "metadata": {},
   "outputs": [
    {
     "name": "stdout",
     "output_type": "stream",
     "text": [
      "BFS:\n",
      "\n",
      "5 3 7 2 4 8 "
     ]
    }
   ],
   "source": [
    "# Initiate the function\n",
    "print(\"BFS:\\n\")\n",
    "bfs(visited,graph,'5')\n"
   ]
  },
  {
   "cell_type": "code",
   "execution_count": 23,
   "id": "cc233422",
   "metadata": {},
   "outputs": [
    {
     "name": "stdout",
     "output_type": "stream",
     "text": [
      "5\n"
     ]
    }
   ],
   "source": [
    "w = [5, 4,7]\n",
    "m = w.pop(0)\n",
    "print(m)"
   ]
  },
  {
   "cell_type": "markdown",
   "id": "26e13fc6",
   "metadata": {},
   "source": [
    "# DFS"
   ]
  },
  {
   "cell_type": "markdown",
   "id": "cfeed131",
   "metadata": {},
   "source": [
    "## Creating graph using dictionary\n",
    "1. Node as key\n",
    "2. List of adjacent nodes as Value."
   ]
  },
  {
   "cell_type": "code",
   "execution_count": 24,
   "id": "fc16c996",
   "metadata": {},
   "outputs": [],
   "source": [
    "# Creating Graph\n",
    "graph = {\n",
    "  '5' : ['3','7'],\n",
    "  '3' : ['2', '4'],\n",
    "  '7' : ['8'],\n",
    "  '2' : [],\n",
    "  '4' : ['8'],\n",
    "  '8' : []\n",
    "}"
   ]
  },
  {
   "cell_type": "code",
   "execution_count": 25,
   "id": "4f444846",
   "metadata": {},
   "outputs": [],
   "source": [
    "# Keeping track of visited nodes\n",
    "visited = set()"
   ]
  },
  {
   "cell_type": "code",
   "execution_count": 26,
   "id": "fdf5814e",
   "metadata": {},
   "outputs": [],
   "source": [
    "# Creating a function for DfS\n",
    "\n",
    "def dfs(visited, graph, node):\n",
    "    if node not in visited:\n",
    "        print(node, end=\" \")\n",
    "        visited.add(node)\n",
    "        for m in graph[node]:\n",
    "            dfs(visited, graph, m)"
   ]
  },
  {
   "cell_type": "code",
   "execution_count": 27,
   "id": "2f921468",
   "metadata": {},
   "outputs": [
    {
     "name": "stdout",
     "output_type": "stream",
     "text": [
      "DFS:\n",
      "\n",
      "5 3 2 4 8 7 "
     ]
    }
   ],
   "source": [
    "# Initiating DfS\n",
    "print(\"DFS:\\n\")\n",
    "dfs(visited, graph, '5')"
   ]
  },
  {
   "cell_type": "markdown",
   "id": "adac0a5f",
   "metadata": {},
   "source": [
    "# 8 Puzzle problem using Best First Search"
   ]
  },
  {
   "cell_type": "code",
   "execution_count": 28,
   "id": "08ba6a23",
   "metadata": {},
   "outputs": [
    {
     "name": "stdout",
     "output_type": "stream",
     "text": [
      "BFS: ['U', 'R', 'U', 'L', 'D']\n",
      "\n",
      "A*: ['U', 'R', 'U', 'L', 'D']\n",
      "\n",
      "RBFS: ['U', 'R', 'U', 'L', 'D']\n",
      "\n",
      "------------------------------------------\n",
      "BFS: ['U', 'R', 'R', 'D', 'L', 'L', 'U', 'R', 'D']\n",
      "\n",
      "A*: ['U', 'R', 'R', 'D', 'L', 'L', 'U', 'R', 'D']\n",
      "\n",
      "RBFS: ['U', 'R', 'R', 'D', 'L', 'L', 'U', 'R', 'D']\n",
      "\n",
      "------------------------------------------\n",
      "BFS: ['R', 'U', 'L', 'U', 'R', 'R', 'D', 'L', 'L', 'U', 'R', 'D']\n",
      "\n",
      "A*: ['R', 'U', 'L', 'U', 'R', 'R', 'D', 'L', 'L', 'U', 'R', 'D']\n",
      "\n",
      "RBFS: ['R', 'U', 'L', 'U', 'R', 'R', 'D', 'L', 'L', 'U', 'R', 'D']\n",
      "\n",
      "------------------------------------------\n"
     ]
    }
   ],
   "source": [
    "from time import time\n",
    "from BFS_search import breadth_first_search\n",
    "from Astar_search import Astar_search\n",
    "from RBFS_search import recursive_best_first_search\n",
    "from puzzle import Puzzle\n",
    "\n",
    "\n",
    "state=[[1, 3, 4,\n",
    "        8, 6, 2,\n",
    "        7, 0, 5],\n",
    "\n",
    "       [2, 8, 1,\n",
    "        0, 4, 3,\n",
    "        7, 6, 5],\n",
    "\n",
    "       [2, 8, 1,\n",
    "        4, 6, 3,\n",
    "        0, 7, 5]]\n",
    "\n",
    "for i in range(0,3):\n",
    "    Puzzle.num_of_instances=0\n",
    "    t0=time()\n",
    "    bfs=breadth_first_search(state[i])\n",
    "    t1=time()-t0\n",
    "    print('BFS:', bfs)\n",
    "#     print('space:',Puzzle.num_of_instances)\n",
    "#     print('time:',t1)\n",
    "    print()\n",
    "\n",
    "    Puzzle.num_of_instances = 0\n",
    "    t0 = time()\n",
    "    astar = Astar_search(state[i])\n",
    "    t1 = time() - t0\n",
    "    print('A*:',astar)\n",
    "#     print('space:', Puzzle.num_of_instances)\n",
    "#     print('time:', t1)\n",
    "    print()\n",
    "\n",
    "    Puzzle.num_of_instances = 0\n",
    "    t0 = time()\n",
    "    RBFS = recursive_best_first_search(state[i])\n",
    "    t1 = time() - t0\n",
    "    print('RBFS:',RBFS)\n",
    "\n",
    "    print()\n",
    "\n",
    "    print('------------------------------------------')"
   ]
  },
  {
   "cell_type": "markdown",
   "id": "3d0239ae",
   "metadata": {},
   "source": [
    "## UCS"
   ]
  },
  {
   "cell_type": "code",
   "execution_count": 29,
   "id": "e2727496",
   "metadata": {},
   "outputs": [
    {
     "name": "stdout",
     "output_type": "stream",
     "text": [
      "Minimum cost from 0 to 5 is =  10\n"
     ]
    }
   ],
   "source": [
    "def uniform_cost_search(goal,start):\n",
    "    global graph,cost\n",
    "    answer=[]\n",
    "    queue=[]\n",
    "    for i in range(len(goal)):\n",
    "        answer.append(10**8)\n",
    "    queue.append([0,start])\n",
    "    visited={}\n",
    "    count=0\n",
    "    while(len(queue)>0):\n",
    "        queue=sorted(queue)\n",
    "        p=queue[-1]\n",
    "        del queue[-1]\n",
    "        p[0]*=-1\n",
    "        if(p[1] in goal):\n",
    "            index=goal.index(p[1])\n",
    "            if(answer[index]==10**8):\n",
    "                count+=1\n",
    "            if(answer[index]>p[0]):\n",
    "                answer[index]=p[0]\n",
    "            del queue[-1]\n",
    "            queue=sorted(queue)\n",
    "            if(count==len(goal)):\n",
    "                return answer\n",
    "        if (p[1] not in visited):\n",
    "            for i in range(len(graph[p[1]])):\n",
    "                queue.append([(p[0] + cost[(p[1], graph[p[1]][i])]) * -1, graph[p[1]][i]])\n",
    "        visited[p[1]]=1\n",
    "    return answer\n",
    "if __name__=='__main__':\n",
    "    graph, cost = [[] for i in range(8)], {}\n",
    "    graph[0].append(1)\n",
    "    graph[0].append(3)\n",
    "    graph[3].append(1)\n",
    "    graph[3].append(6)\n",
    "    graph[3].append(4)\n",
    "    graph[1].append(6)\n",
    "    graph[4].append(2)\n",
    "    graph[4].append(5)\n",
    "    graph[2].append(1)\n",
    "    graph[5].append(2)\n",
    "    graph[5].append(6)\n",
    "    graph[6].append(4)\n",
    "\n",
    "    cost[(0, 1)] = 2\n",
    "    cost[(0, 3)] = 5\n",
    "    cost[(1, 6)] = 1\n",
    "    cost[(3, 1)] = 5\n",
    "    cost[(3, 6)] = 6\n",
    "    cost[(3, 4)] = 2\n",
    "    cost[(2, 1)] = 4\n",
    "    cost[(4, 2)] = 4\n",
    "    cost[(4, 5)] = 3\n",
    "    cost[(5, 2)] = 6\n",
    "    cost[(5, 6)] = 3\n",
    "    cost[(6, 4)] = 7\n",
    "\n",
    "    goal=[]\n",
    "    goal.append(5)\n",
    "    answer = uniform_cost_search(goal, 0)\n",
    "    print(\"Minimum cost from 0 to 5 is = \", answer[0])"
   ]
  },
  {
   "cell_type": "code",
   "execution_count": null,
   "id": "ebab036a",
   "metadata": {},
   "outputs": [],
   "source": []
  },
  {
   "cell_type": "markdown",
   "id": "20eb86bb",
   "metadata": {},
   "source": [
    "## N QUEEN PROBLEM"
   ]
  },
  {
   "cell_type": "code",
   "execution_count": 30,
   "id": "1ac41730",
   "metadata": {},
   "outputs": [
    {
     "name": "stdout",
     "output_type": "stream",
     "text": [
      "1 0 0 0 0 0 0 0 \n",
      "0 0 0 0 0 0 1 0 \n",
      "0 0 0 0 1 0 0 0 \n",
      "0 0 0 0 0 0 0 1 \n",
      "0 1 0 0 0 0 0 0 \n",
      "0 0 0 1 0 0 0 0 \n",
      "0 0 0 0 0 1 0 0 \n",
      "0 0 1 0 0 0 0 0 \n"
     ]
    },
    {
     "data": {
      "text/plain": [
       "True"
      ]
     },
     "execution_count": 30,
     "metadata": {},
     "output_type": "execute_result"
    }
   ],
   "source": [
    "# N Queen Python Program\n",
    "global N\n",
    "N = 8\n",
    "\n",
    "def printSolution(board):\n",
    "    for i in range(N):\n",
    "        for j in range(N):\n",
    "            print(board[i][j], end = \" \")\n",
    "        print()\n",
    "\n",
    "def isSafe(board, row, col):\n",
    "\n",
    "    for i in range(col):\n",
    "        if board[row][i] == 1:\n",
    "            return False\n",
    "\n",
    "    for i, j in zip(range(row, -1, -1),\n",
    "                    range(col, -1, -1)):\n",
    "        if board[i][j] == 1:\n",
    "            return False\n",
    "\n",
    "    for i, j in zip(range(row, N, 1),\n",
    "                    range(col, -1, -1)):\n",
    "        if board[i][j] == 1:\n",
    "            return False\n",
    "\n",
    "    return True\n",
    "\n",
    "def solveNQUtil(board, col):\n",
    "    if col >= N:\n",
    "        return True\n",
    "\n",
    "    for i in range(N):\n",
    "\n",
    "        if isSafe(board, i, col):\n",
    "            \n",
    "\n",
    "            board[i][col] = 1\n",
    "\n",
    "            if solveNQUtil(board, col + 1) == True:\n",
    "                return True\n",
    "            board[i][col] = 0\n",
    "    return False\n",
    "\n",
    "\n",
    "def solveNQ():\n",
    "    # board = [ [0, 0, 0, 0],\n",
    "    #         [0, 0, 0, 0],\n",
    "    #         [0, 0, 0, 0],\n",
    "    #         [0, 0, 0, 0] ]\n",
    "\n",
    "    board = [ [0, 0, 0, 0,0, 0, 0, 0],\n",
    "            [0, 0, 0, 0,0, 0, 0, 0],\n",
    "            [0, 0, 0, 0,0, 0, 0, 0],\n",
    "            [0, 0, 0, 0,0, 0, 0, 0],\n",
    "            [0, 0, 0, 0,0, 0, 0, 0],\n",
    "            [0, 0, 0, 0,0, 0, 0, 0],\n",
    "            [0, 0, 0, 0,0, 0, 0, 0],\n",
    "            [0, 0, 0, 0,0, 0, 0, 0] ]\n",
    "\n",
    "\n",
    "\n",
    "    if solveNQUtil(board, 0) == False:\n",
    "        print (\"Solution does not exist\")\n",
    "        return False\n",
    "\n",
    "    printSolution(board)\n",
    "    return True\n",
    "\n",
    "solveNQ()\n"
   ]
  },
  {
   "cell_type": "markdown",
   "id": "82b64d0d",
   "metadata": {},
   "source": []
  },
  {
   "cell_type": "code",
   "execution_count": null,
   "id": "757a6b32",
   "metadata": {},
   "outputs": [],
   "source": []
  }
 ],
 "metadata": {
  "kernelspec": {
   "display_name": "Python 3 (ipykernel)",
   "language": "python",
   "name": "python3"
  },
  "language_info": {
   "codemirror_mode": {
    "name": "ipython",
    "version": 3
   },
   "file_extension": ".py",
   "mimetype": "text/x-python",
   "name": "python",
   "nbconvert_exporter": "python",
   "pygments_lexer": "ipython3",
   "version": "3.10.9"
  }
 },
 "nbformat": 4,
 "nbformat_minor": 5
}
